{
 "cells": [
  {
   "cell_type": "code",
   "execution_count": 1,
   "id": "b0ab25c4-67b7-4951-8fdc-d6184ca45ec3",
   "metadata": {},
   "outputs": [],
   "source": [
    "from qiskit                 import QuantumCircuit, transpile\n",
    "from qiskit.circuit         import Parameter\n",
    "from qiskit.circuit.library import qaoa_ansatz\n",
    "from qiskit_aer             import AerSimulator\n",
    "from qiskit.visualization   import plot_histogram\n",
    "from qiskit.primitives      import StatevectorEstimator as Estimator\n",
    "from scipy.optimize         import minimize\n",
    "from qiskit.quantum_info    import SparsePauliOp"
   ]
  },
  {
   "cell_type": "code",
   "execution_count": 2,
   "id": "0622fe10-d4fd-4d7d-b4d4-4826cb1647e9",
   "metadata": {},
   "outputs": [],
   "source": [
    "Hp = SparsePauliOp([\"ZZII\",\"IZZI\",\"IIZZ\",\"ZIIZ\"])"
   ]
  },
  {
   "cell_type": "code",
   "execution_count": 3,
   "id": "b0f76085-811f-41a6-aedc-713590c7448b",
   "metadata": {},
   "outputs": []
     },
     "execution_count": 3,
     "metadata": {},
     "output_type": "execute_result"
    }
   ],
   "source": [
    "circuit = qaoa_ansatz(Hp,reps=1,insert_barriers=True)\n",
    "circuit.draw('mpl')"
   ]
  },
  {
   "cell_type": "code",
   "execution_count": 4,
   "id": "2f445e0b-08bd-4b32-982f-0d8727899905",
   "metadata": {},
   "outputs": [],
   "source": [
    "def objective_function_qaoa(theta):\n",
    "    circuit = qaoa_ansatz(Hp,reps=1,insert_barriers=True)\n",
    "    circuit = circuit.assign_parameters(theta)\n",
    "    estimator = Estimator()\n",
    "    job = estimator.run([(circuit,Hp)])\n",
    "    result = job.result()\n",
    "    expectation_value = result[0].data.evs.real\n",
    "    return expectation_value"
   ]
  },
  {
   "cell_type": "code",
   "execution_count": 5,
   "id": "07bcc621-047b-4d9e-9bdc-188595198a12",
   "metadata": {},
   "outputs": [
    {
     "data": {
      "text/plain": [
       " message: Optimization terminated successfully.\n",
       " success: True\n",
       "  status: 1\n",
       "     fun: -1.9999998743661536\n",
       "       x: [ 1.964e+00  1.178e+00]\n",
       "    nfev: 43\n",
       "   maxcv: 0.0"
      ]
     },
     "execution_count": 5,
     "metadata": {},
     "output_type": "execute_result"
    }
   ],
   "source": [
    "res_qaoa = minimize(objective_function_qaoa,[1,1],method='COBYLA')\n",
    "res_qaoa"
   ]
  },
  {
   "cell_type": "code",
   "execution_count": 6,
   "id": "ed4759ae-ca8e-4558-b459-e20df9f4e06f",
   "metadata": {},
   "outputs": []
     },
     "execution_count": 6,
     "metadata": {},
     "output_type": "execute_result"
    }
   ],
   "source": [
    "qc = QuantumCircuit(4,4)\n",
    "ansatz = qaoa_ansatz(Hp,reps=1,insert_barriers=True)\n",
    "ansatz = ansatz.assign_parameters(res_qaoa.x)\n",
    "qc.append(ansatz,range(4))\n",
    "qc.measure(range(4),range(4))\n",
    "qc.draw('mpl')"
   ]
  },
  {
   "cell_type": "code",
   "execution_count": 7,
   "id": "c6d8bc79-ccd8-4724-bc86-b3093ce3498a",
   "metadata": {},
   "outputs": [],
   "source": [
    "backend     = AerSimulator()\n",
    "qc_compiled = transpile(qc,backend)\n",
    "job         = backend.run(qc_compiled, shots = 2048)\n",
    "result      = job.result()\n",
    "counts      = result.get_counts()"
   ]
  },
  {
   "cell_type": "code",
   "execution_count": 8,
   "id": "477a15a6-276a-4625-9f61-a1cfa1f84ca6",
   "metadata": {},
   "outputs": []
     },
     "execution_count": 8,
     "metadata": {},
     "output_type": "execute_result"
    }
   ],
   "source": [
    "plot_histogram(counts)"
   ]
  },
  {
   "cell_type": "code",
   "execution_count": null,
   "id": "f5ee8067-a5ac-4ee9-b3d1-881f2b366ce4",
   "metadata": {},
   "outputs": [],
   "source": []
  }
 ],
 "metadata": {
  "kernelspec": {
   "display_name": "qiskit-env",
   "language": "python",
   "name": "qiskit-env"
  },
  "language_info": {
   "codemirror_mode": {
    "name": "ipython",
    "version": 3
   },
   "file_extension": ".py",
   "mimetype": "text/x-python",
   "name": "python",
   "nbconvert_exporter": "python",
   "pygments_lexer": "ipython3",
   "version": "3.13.5"
  }
 },
 "nbformat": 4,
 "nbformat_minor": 5
}
